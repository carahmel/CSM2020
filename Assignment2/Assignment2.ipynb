{
 "cells": [
  {
   "cell_type": "code",
   "execution_count": 3,
   "metadata": {
    "pycharm": {
     "is_executing": false
    }
   },
   "outputs": [],
   "source": [
    "from tweepy.streaming import StreamListener\n",
    "from tweepy import OAuthHandler\n",
    "from tweepy import Stream\n",
    "import json\n",
    "from twitter import *\n",
    "from twitter.stream import TwitterStream, Timeout, HeartbeatTimeout, Hangup\n",
    "\n",
    "### code adapted from: https://github.com/computermacgyver/twitter-python/blob/master/streaming_simple.py\n",
    "\n",
    "class StdOutListener(StreamListener):\n",
    "\n",
    "    # This function gets called every time a new tweet is received on the stream\n",
    "    def on_data(self, data):\n",
    "\n",
    "        if data is None:\n",
    "            print(\"-- None --\")\n",
    "\n",
    "        elif data is Timeout:\n",
    "            print(\"-- Timeout --\")\n",
    "\n",
    "        elif data is HeartbeatTimeout:\n",
    "            print(\"-- Heartbeat Timeout --\")\n",
    "\n",
    "        elif data is Hangup:\n",
    "            print(\"-- Hangup --\")\n",
    "\n",
    "        else:\n",
    "            # Just write data to one line in the file\n",
    "            fhOut.write(data)\n",
    "            print(data)\n",
    "\n",
    "    def on_error(self, status):\n",
    "        print(\"ERROR\")\n",
    "        print(status)\n",
    "\n",
    "\n",
    "if __name__ == '__main__':\n",
    "    try:\n",
    "        # tokens\n",
    "        consumer_key = ''\n",
    "        consumer_secret = ''\n",
    "        resource_owner_key = ''\n",
    "        resource_owner_secret = ''\n",
    "        \n",
    "        # ** select appropriate output file **\n",
    "        fhOut = open(\"sample-1.json\", \"a\")\n",
    "        #fhOut = open(\"sample-2.json\", \"a\")\n",
    "\n",
    "        # Create the listener\n",
    "        l = StdOutListener()\n",
    "        auth = OAuthHandler(consumer_key, consumer_secret)\n",
    "        auth.set_access_token(resource_owner_key, resource_owner_secret)\n",
    "\n",
    "        # Connect to the Twitter stream\n",
    "        stream = Stream(auth, l)\n",
    "\n",
    "        # Filter terms and locations  ** select appropriate stream for samples **\n",
    "        stream.filter(track=[\"#covid19\", \"#covid-19\", \"#coronavirus\"])  # sample1\n",
    "        #stream.filter(track=[\"#covid19\", \"#covid-19\", \"#coronavirus\"], locations=[5.9559113, 45.817994999999996, 10.4922941, 47.8084648])  # sample 2\n",
    "\n",
    "\n",
    "    except KeyboardInterrupt:\n",
    "        # Ctrl + C to stop process\n",
    "        # Approximately 3000 records are obtained after running for 1 minute.\n",
    "        pass\n",
    "\n",
    "    # Close the json file and manually import file to MongoDB\n",
    "    fhOut.close()\n"
   ]
  },
  {
   "cell_type": "code",
   "execution_count": null,
   "metadata": {},
   "outputs": [],
   "source": []
  }
 ],
 "metadata": {
  "kernelspec": {
   "display_name": "Python 3",
   "language": "python",
   "name": "python3"
  },
  "language_info": {
   "codemirror_mode": {
    "name": "ipython",
    "version": 3
   },
   "file_extension": ".py",
   "mimetype": "text/x-python",
   "name": "python",
   "nbconvert_exporter": "python",
   "pygments_lexer": "ipython3",
   "version": "3.8.1"
  },
  "pycharm": {
   "stem_cell": {
    "cell_type": "raw",
    "source": [],
    "metadata": {
     "collapsed": false
    }
   }
  }
 },
 "nbformat": 4,
 "nbformat_minor": 1
}